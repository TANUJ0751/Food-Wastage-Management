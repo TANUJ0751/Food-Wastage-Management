{
 "cells": [
  {
   "cell_type": "code",
   "execution_count": 1,
   "id": "422240e6-5721-4151-bd5f-2d3c5b34e4ad",
   "metadata": {},
   "outputs": [],
   "source": [
    "\n",
    "import pandas as pd\n",
    "import sqlite3\n",
    "import os"
   ]
  },
  {
   "cell_type": "code",
   "execution_count": 2,
   "id": "329e476e-9731-4f8a-8896-c704d51c2ddc",
   "metadata": {},
   "outputs": [],
   "source": [
    "data_folder = \"./data\"  # folder containing CSVs\n",
    "csv_files = {\n",
    "    \"providers\": \"providers_data.csv\",\n",
    "    \"receivers\": \"receivers_data.csv\",\n",
    "    \"food_listings\": \"food_listings_data.csv\",\n",
    "    \"claims\": \"claims_data.csv\"\n",
    "}\n"
   ]
  },
  {
   "cell_type": "code",
   "execution_count": 3,
   "id": "11eee8a7-6e78-45ff-a147-89f3c5d21448",
   "metadata": {},
   "outputs": [
    {
     "name": "stdout",
     "output_type": "stream",
     "text": [
      "Connected to database: food_wastage.db\n"
     ]
    }
   ],
   "source": [
    "db_name = \"food_wastage.db\"\n",
    "conn = sqlite3.connect(db_name)\n",
    "cursor = conn.cursor()\n",
    "print(f\"Connected to database: {db_name}\")\n"
   ]
  },
  {
   "cell_type": "code",
   "execution_count": 4,
   "id": "eb07e6fc-1271-46ea-8bb1-5a3cca8e7a89",
   "metadata": {},
   "outputs": [
    {
     "name": "stdout",
     "output_type": "stream",
     "text": [
      " Table 'providers' created with 1000 rows.\n",
      " Table 'receivers' created with 1000 rows.\n",
      " Table 'food_listings' created with 1000 rows.\n",
      " Table 'claims' created with 1000 rows.\n"
     ]
    }
   ],
   "source": [
    "for table_name, file_name in csv_files.items():\n",
    "    file_path = os.path.join(data_folder, file_name)\n",
    "    if os.path.exists(file_path):\n",
    "        df = pd.read_csv(file_path)\n",
    "        df.to_sql(table_name, conn, if_exists=\"replace\", index=False)\n",
    "        print(f\" Table '{table_name}' created with {len(df)} rows.\")\n",
    "    else:\n",
    "        print(f\" File not found: {file_path}\")"
   ]
  },
  {
   "cell_type": "code",
   "execution_count": 5,
   "id": "24f9b362-fd4b-43c6-9140-3bb7eaa4c30e",
   "metadata": {},
   "outputs": [
    {
     "name": "stdout",
     "output_type": "stream",
     "text": [
      "\n",
      "Available tables in database:\n",
      "- providers\n",
      "- receivers\n",
      "- food_listings\n",
      "- claims\n"
     ]
    }
   ],
   "source": [
    "print(\"\\nAvailable tables in database:\")\n",
    "tables = cursor.execute(\"SELECT name FROM sqlite_master WHERE type='table';\").fetchall()\n",
    "for t in tables:\n",
    "    print(\"-\", t[0])"
   ]
  },
  {
   "cell_type": "code",
   "execution_count": 6,
   "id": "815587b2-7e4a-468a-a3f4-bd3b4b73cddd",
   "metadata": {},
   "outputs": [
    {
     "name": "stdout",
     "output_type": "stream",
     "text": [
      "\n",
      "Sample data from providers:\n"
     ]
    },
    {
     "data": {
      "text/html": [
       "<div>\n",
       "<style scoped>\n",
       "    .dataframe tbody tr th:only-of-type {\n",
       "        vertical-align: middle;\n",
       "    }\n",
       "\n",
       "    .dataframe tbody tr th {\n",
       "        vertical-align: top;\n",
       "    }\n",
       "\n",
       "    .dataframe thead th {\n",
       "        text-align: right;\n",
       "    }\n",
       "</style>\n",
       "<table border=\"1\" class=\"dataframe\">\n",
       "  <thead>\n",
       "    <tr style=\"text-align: right;\">\n",
       "      <th></th>\n",
       "      <th>Provider_ID</th>\n",
       "      <th>Name</th>\n",
       "      <th>Type</th>\n",
       "      <th>Address</th>\n",
       "      <th>City</th>\n",
       "      <th>Contact</th>\n",
       "    </tr>\n",
       "  </thead>\n",
       "  <tbody>\n",
       "    <tr>\n",
       "      <th>0</th>\n",
       "      <td>1</td>\n",
       "      <td>Gonzales-Cochran</td>\n",
       "      <td>Supermarket</td>\n",
       "      <td>74347 Christopher Extensions\\nAndreamouth, OK ...</td>\n",
       "      <td>New Jessica</td>\n",
       "      <td>+1-600-220-0480</td>\n",
       "    </tr>\n",
       "    <tr>\n",
       "      <th>1</th>\n",
       "      <td>2</td>\n",
       "      <td>Nielsen, Johnson and Fuller</td>\n",
       "      <td>Grocery Store</td>\n",
       "      <td>91228 Hanson Stream\\nWelchtown, OR 27136</td>\n",
       "      <td>East Sheena</td>\n",
       "      <td>+1-925-283-8901x6297</td>\n",
       "    </tr>\n",
       "    <tr>\n",
       "      <th>2</th>\n",
       "      <td>3</td>\n",
       "      <td>Miller-Black</td>\n",
       "      <td>Supermarket</td>\n",
       "      <td>561 Martinez Point Suite 507\\nGuzmanchester, W...</td>\n",
       "      <td>Lake Jesusview</td>\n",
       "      <td>001-517-295-2206</td>\n",
       "    </tr>\n",
       "    <tr>\n",
       "      <th>3</th>\n",
       "      <td>4</td>\n",
       "      <td>Clark, Prince and Williams</td>\n",
       "      <td>Grocery Store</td>\n",
       "      <td>467 Bell Trail Suite 409\\nPort Jesus, IA 61188</td>\n",
       "      <td>Mendezmouth</td>\n",
       "      <td>556.944.8935x401</td>\n",
       "    </tr>\n",
       "    <tr>\n",
       "      <th>4</th>\n",
       "      <td>5</td>\n",
       "      <td>Coleman-Farley</td>\n",
       "      <td>Grocery Store</td>\n",
       "      <td>078 Matthew Creek Apt. 319\\nSaraborough, MA 53978</td>\n",
       "      <td>Valentineside</td>\n",
       "      <td>193.714.6577</td>\n",
       "    </tr>\n",
       "  </tbody>\n",
       "</table>\n",
       "</div>"
      ],
      "text/plain": [
       "   Provider_ID                         Name           Type  \\\n",
       "0            1             Gonzales-Cochran    Supermarket   \n",
       "1            2  Nielsen, Johnson and Fuller  Grocery Store   \n",
       "2            3                 Miller-Black    Supermarket   \n",
       "3            4   Clark, Prince and Williams  Grocery Store   \n",
       "4            5               Coleman-Farley  Grocery Store   \n",
       "\n",
       "                                             Address            City  \\\n",
       "0  74347 Christopher Extensions\\nAndreamouth, OK ...     New Jessica   \n",
       "1           91228 Hanson Stream\\nWelchtown, OR 27136     East Sheena   \n",
       "2  561 Martinez Point Suite 507\\nGuzmanchester, W...  Lake Jesusview   \n",
       "3     467 Bell Trail Suite 409\\nPort Jesus, IA 61188     Mendezmouth   \n",
       "4  078 Matthew Creek Apt. 319\\nSaraborough, MA 53978   Valentineside   \n",
       "\n",
       "                Contact  \n",
       "0       +1-600-220-0480  \n",
       "1  +1-925-283-8901x6297  \n",
       "2      001-517-295-2206  \n",
       "3      556.944.8935x401  \n",
       "4          193.714.6577  "
      ]
     },
     "metadata": {},
     "output_type": "display_data"
    }
   ],
   "source": [
    "\n",
    "sample_table = \"providers\"\n",
    "print(f\"\\nSample data from {sample_table}:\")\n",
    "display(pd.read_sql(f\"SELECT * FROM {sample_table} LIMIT 5;\", conn))\n",
    "\n"
   ]
  },
  {
   "cell_type": "code",
   "execution_count": null,
   "id": "ad13ef4d-4d0e-445d-ab22-5f042b7a7982",
   "metadata": {},
   "outputs": [],
   "source": [
    "sample_table = \"recievers\"\n",
    "print(f\"\\nSample data from {sample_table}:\")\n",
    "display(pd.read_sql(f\"SELECT * FROM {sample_table} LIMIT 5;\", conn))\n"
   ]
  },
  {
   "cell_type": "code",
   "execution_count": null,
   "id": "c69f7f0f-856d-4415-8ea2-b0ed13de5c5f",
   "metadata": {},
   "outputs": [],
   "source": [
    "sample_table = \"food_listings\"\n",
    "print(f\"\\nSample data from {sample_table}:\")\n",
    "display(pd.read_sql(f\"SELECT * FROM {sample_table} LIMIT 5;\", conn))\n"
   ]
  },
  {
   "cell_type": "code",
   "execution_count": null,
   "id": "b8e3de54-9615-4948-ac10-e8f8b7f69550",
   "metadata": {},
   "outputs": [],
   "source": [
    "sample_table = \"providers\"\n",
    "print(f\"\\nSample data from {sample_table}:\")\n",
    "display(pd.read_sql(f\"SELECT * FROM {sample_table} LIMIT 5;\", conn))\n"
   ]
  },
  {
   "cell_type": "code",
   "execution_count": 7,
   "id": "611a6637-06ef-47d0-8a75-dedd7143850b",
   "metadata": {},
   "outputs": [
    {
     "name": "stdout",
     "output_type": "stream",
     "text": [
      "\n",
      "🎯 Database created successfully!\n"
     ]
    }
   ],
   "source": [
    "# Close connection\n",
    "conn.close()\n",
    "print(\"\\n🎯 Database created successfully!\")\n"
   ]
  }
 ],
 "metadata": {
  "kernelspec": {
   "display_name": "Python (myenv)",
   "language": "python",
   "name": "myenv"
  },
  "language_info": {
   "codemirror_mode": {
    "name": "ipython",
    "version": 3
   },
   "file_extension": ".py",
   "mimetype": "text/x-python",
   "name": "python",
   "nbconvert_exporter": "python",
   "pygments_lexer": "ipython3",
   "version": "3.10.12"
  }
 },
 "nbformat": 4,
 "nbformat_minor": 5
}

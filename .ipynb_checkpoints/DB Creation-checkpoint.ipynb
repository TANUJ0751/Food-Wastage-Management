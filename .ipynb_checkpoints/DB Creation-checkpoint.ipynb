{
 "cells": [
  {
   "cell_type": "markdown",
   "id": "c9290f24-8ec9-4ede-8293-70d2ccd8a399",
   "metadata": {},
   "source": [
    "# **Project Name**    - Food Waste Management"
   ]
  },
  {
   "cell_type": "markdown",
   "id": "0e8a954e-52f9-460f-8e2b-000efdbef857",
   "metadata": {},
   "source": [
    "##### **Project Type**    - EDA\n",
    "##### **Contribution**    - Individual\n",
    "##### **Team Member 1 -**  Tanuj Jain"
   ]
  },
  {
   "cell_type": "markdown",
   "id": "b85e5eee-ad5d-4759-a796-1ae0ee75e5df",
   "metadata": {},
   "source": [
    "# **Project Summary -**\n",
    "\n",
    "This project focuses on building a **Food Donation and Distribution Analysis System** using Python, SQL, and Streamlit. The system stores and manages data about food providers, receivers, donations, and claims. It enables trend analysis through SQL queries, such as identifying top food providers, most-claimed food items, city-wise donations, and claim completion rates. CRUD operations allow adding, updating, and deleting records for real-time management. The Streamlit app offers interactive filtering by location, provider, and food type, and facilitates direct contact with providers and receivers. Insights help optimize food distribution, reduce wastage, and highlight high-demand areas, ensuring efficient resource allocation.\n"
   ]
  },
  {
   "cell_type": "markdown",
   "id": "fe1372f0-58c7-4acd-be18-d81d414495e9",
   "metadata": {},
   "source": [
    "# **GitHub Link -** [Click here to view the project on GitHub](https://github.com/TANUJ0751/Food-Wastage-Management)\n"
   ]
  },
  {
   "cell_type": "markdown",
   "id": "80dc80ce-0649-4113-b0aa-7cd6d08458bb",
   "metadata": {},
   "source": [
    "# Deployed Project Link - [Click here to view the Deployed Project](https://tanujs-food-wastage-management.streamlit.app/)\n"
   ]
  },
  {
   "cell_type": "markdown",
   "id": "b894531f-ea77-42f2-96e7-9a6f0005ae29",
   "metadata": {},
   "source": [
    "# **Problem Statement**\n",
    "\n",
    "Food wastage remains a critical global issue, with surplus food often discarded while many people struggle with hunger. Lack of a structured system for tracking donations, managing providers and receivers, and analyzing distribution trends creates inefficiencies in resource allocation. Manual processes lead to data loss, poor communication, and limited transparency, making it difficult to ensure timely and fair distribution. There is also no centralized platform for monitoring demand and supply patterns. This project addresses the problem by developing a database-driven solution with analytics and a user-friendly interface to streamline food donations, reduce wastage, and improve distribution efficiency.\n"
   ]
  },
  {
   "cell_type": "markdown",
   "id": "0984fa03-29a9-469d-8993-318e4f7ba30e",
   "metadata": {},
   "source": [
    "#### Importing Libraries"
   ]
  },
  {
   "cell_type": "code",
   "execution_count": 1,
   "id": "422240e6-5721-4151-bd5f-2d3c5b34e4ad",
   "metadata": {},
   "outputs": [],
   "source": [
    "import pandas as pd\n",
    "import sqlite3\n",
    "import os"
   ]
  },
  {
   "cell_type": "markdown",
   "id": "3cb4948d-5a8c-4813-b2c0-4c46ed49ceec",
   "metadata": {},
   "source": [
    "#### Defining Data Folder"
   ]
  },
  {
   "cell_type": "code",
   "execution_count": 2,
   "id": "329e476e-9731-4f8a-8896-c704d51c2ddc",
   "metadata": {},
   "outputs": [],
   "source": [
    "data_folder = \"./data\"  # folder containing CSVs\n",
    "csv_files = {\n",
    "    \"providers\": \"providers_data.csv\",\n",
    "    \"receivers\": \"receivers_data.csv\",\n",
    "    \"food_listings\": \"food_listings_data.csv\",\n",
    "    \"claims\": \"claims_data.csv\"\n",
    "}\n"
   ]
  },
  {
   "cell_type": "markdown",
   "id": "d5b24888-413d-4471-8fed-8420e52aaf0f",
   "metadata": {},
   "source": [
    "#### Creating Database"
   ]
  },
  {
   "cell_type": "code",
   "execution_count": 3,
   "id": "11eee8a7-6e78-45ff-a147-89f3c5d21448",
   "metadata": {},
   "outputs": [
    {
     "name": "stdout",
     "output_type": "stream",
     "text": [
      "Connected to database: food_wastage.db\n"
     ]
    }
   ],
   "source": [
    "db_name = \"food_wastage.db\"\n",
    "conn = sqlite3.connect(db_name)\n",
    "cursor = conn.cursor()\n",
    "print(f\"Connected to database: {db_name}\")\n"
   ]
  },
  {
   "cell_type": "markdown",
   "id": "80e1916c-8551-4195-b2f0-ef3b90fb52ea",
   "metadata": {},
   "source": [
    "#### Creating Tables in Dataset"
   ]
  },
  {
   "cell_type": "code",
   "execution_count": 4,
   "id": "eb07e6fc-1271-46ea-8bb1-5a3cca8e7a89",
   "metadata": {},
   "outputs": [
    {
     "name": "stdout",
     "output_type": "stream",
     "text": [
      " Table 'providers' created with 1000 rows.\n",
      " Table 'receivers' created with 1000 rows.\n",
      " Table 'food_listings' created with 1000 rows.\n",
      " Table 'claims' created with 1000 rows.\n"
     ]
    }
   ],
   "source": [
    "for table_name, file_name in csv_files.items():\n",
    "    file_path = os.path.join(data_folder, file_name)\n",
    "    if os.path.exists(file_path):\n",
    "        df = pd.read_csv(file_path)\n",
    "        df.to_sql(table_name, conn, if_exists=\"replace\", index=False)\n",
    "        print(f\" Table '{table_name}' created with {len(df)} rows.\")\n",
    "    else:\n",
    "        print(f\" File not found: {file_path}\")"
   ]
  },
  {
   "cell_type": "markdown",
   "id": "cece2dd6-b2df-4664-9d5d-ab3f125416d8",
   "metadata": {},
   "source": [
    "#### Printing Available Tables in the Dataset"
   ]
  },
  {
   "cell_type": "code",
   "execution_count": 5,
   "id": "24f9b362-fd4b-43c6-9140-3bb7eaa4c30e",
   "metadata": {},
   "outputs": [
    {
     "name": "stdout",
     "output_type": "stream",
     "text": [
      "\n",
      "Available tables in database:\n",
      "- providers\n",
      "- receivers\n",
      "- food_listings\n",
      "- claims\n"
     ]
    }
   ],
   "source": [
    "print(\"\\nAvailable tables in database:\")\n",
    "tables = cursor.execute(\"SELECT name FROM sqlite_master WHERE type='table';\").fetchall()\n",
    "for t in tables:\n",
    "    print(\"-\", t[0])"
   ]
  },
  {
   "cell_type": "markdown",
   "id": "51daa51a-4cbe-4c7d-b6d2-b7176e9f273f",
   "metadata": {},
   "source": [
    "### Fetching Providers Table"
   ]
  },
  {
   "cell_type": "code",
   "execution_count": 6,
   "id": "815587b2-7e4a-468a-a3f4-bd3b4b73cddd",
   "metadata": {},
   "outputs": [
    {
     "name": "stdout",
     "output_type": "stream",
     "text": [
      "\n",
      "Sample data from providers:\n"
     ]
    },
    {
     "data": {
      "text/html": [
       "<div>\n",
       "<style scoped>\n",
       "    .dataframe tbody tr th:only-of-type {\n",
       "        vertical-align: middle;\n",
       "    }\n",
       "\n",
       "    .dataframe tbody tr th {\n",
       "        vertical-align: top;\n",
       "    }\n",
       "\n",
       "    .dataframe thead th {\n",
       "        text-align: right;\n",
       "    }\n",
       "</style>\n",
       "<table border=\"1\" class=\"dataframe\">\n",
       "  <thead>\n",
       "    <tr style=\"text-align: right;\">\n",
       "      <th></th>\n",
       "      <th>Provider_ID</th>\n",
       "      <th>Name</th>\n",
       "      <th>Type</th>\n",
       "      <th>Address</th>\n",
       "      <th>City</th>\n",
       "      <th>Contact</th>\n",
       "    </tr>\n",
       "  </thead>\n",
       "  <tbody>\n",
       "    <tr>\n",
       "      <th>0</th>\n",
       "      <td>1</td>\n",
       "      <td>Gonzales-Cochran</td>\n",
       "      <td>Supermarket</td>\n",
       "      <td>74347 Christopher Extensions\\nAndreamouth, OK ...</td>\n",
       "      <td>New Jessica</td>\n",
       "      <td>+1-600-220-0480</td>\n",
       "    </tr>\n",
       "    <tr>\n",
       "      <th>1</th>\n",
       "      <td>2</td>\n",
       "      <td>Nielsen, Johnson and Fuller</td>\n",
       "      <td>Grocery Store</td>\n",
       "      <td>91228 Hanson Stream\\nWelchtown, OR 27136</td>\n",
       "      <td>East Sheena</td>\n",
       "      <td>+1-925-283-8901x6297</td>\n",
       "    </tr>\n",
       "    <tr>\n",
       "      <th>2</th>\n",
       "      <td>3</td>\n",
       "      <td>Miller-Black</td>\n",
       "      <td>Supermarket</td>\n",
       "      <td>561 Martinez Point Suite 507\\nGuzmanchester, W...</td>\n",
       "      <td>Lake Jesusview</td>\n",
       "      <td>001-517-295-2206</td>\n",
       "    </tr>\n",
       "    <tr>\n",
       "      <th>3</th>\n",
       "      <td>4</td>\n",
       "      <td>Clark, Prince and Williams</td>\n",
       "      <td>Grocery Store</td>\n",
       "      <td>467 Bell Trail Suite 409\\nPort Jesus, IA 61188</td>\n",
       "      <td>Mendezmouth</td>\n",
       "      <td>556.944.8935x401</td>\n",
       "    </tr>\n",
       "    <tr>\n",
       "      <th>4</th>\n",
       "      <td>5</td>\n",
       "      <td>Coleman-Farley</td>\n",
       "      <td>Grocery Store</td>\n",
       "      <td>078 Matthew Creek Apt. 319\\nSaraborough, MA 53978</td>\n",
       "      <td>Valentineside</td>\n",
       "      <td>193.714.6577</td>\n",
       "    </tr>\n",
       "  </tbody>\n",
       "</table>\n",
       "</div>"
      ],
      "text/plain": [
       "   Provider_ID                         Name           Type  \\\n",
       "0            1             Gonzales-Cochran    Supermarket   \n",
       "1            2  Nielsen, Johnson and Fuller  Grocery Store   \n",
       "2            3                 Miller-Black    Supermarket   \n",
       "3            4   Clark, Prince and Williams  Grocery Store   \n",
       "4            5               Coleman-Farley  Grocery Store   \n",
       "\n",
       "                                             Address            City  \\\n",
       "0  74347 Christopher Extensions\\nAndreamouth, OK ...     New Jessica   \n",
       "1           91228 Hanson Stream\\nWelchtown, OR 27136     East Sheena   \n",
       "2  561 Martinez Point Suite 507\\nGuzmanchester, W...  Lake Jesusview   \n",
       "3     467 Bell Trail Suite 409\\nPort Jesus, IA 61188     Mendezmouth   \n",
       "4  078 Matthew Creek Apt. 319\\nSaraborough, MA 53978   Valentineside   \n",
       "\n",
       "                Contact  \n",
       "0       +1-600-220-0480  \n",
       "1  +1-925-283-8901x6297  \n",
       "2      001-517-295-2206  \n",
       "3      556.944.8935x401  \n",
       "4          193.714.6577  "
      ]
     },
     "metadata": {},
     "output_type": "display_data"
    }
   ],
   "source": [
    "\n",
    "sample_table = \"providers\"\n",
    "print(f\"\\nSample data from {sample_table}:\")\n",
    "display(pd.read_sql(f\"SELECT * FROM {sample_table} LIMIT 5;\", conn))\n",
    "\n"
   ]
  },
  {
   "cell_type": "markdown",
   "id": "ea203654-9caf-47d7-a31e-ca32d9ce325c",
   "metadata": {},
   "source": [
    "### Fetching receivers Table"
   ]
  },
  {
   "cell_type": "code",
   "execution_count": 7,
   "id": "ad13ef4d-4d0e-445d-ab22-5f042b7a7982",
   "metadata": {},
   "outputs": [
    {
     "name": "stdout",
     "output_type": "stream",
     "text": [
      "\n",
      "Sample data from receivers:\n"
     ]
    },
    {
     "data": {
      "text/html": [
       "<div>\n",
       "<style scoped>\n",
       "    .dataframe tbody tr th:only-of-type {\n",
       "        vertical-align: middle;\n",
       "    }\n",
       "\n",
       "    .dataframe tbody tr th {\n",
       "        vertical-align: top;\n",
       "    }\n",
       "\n",
       "    .dataframe thead th {\n",
       "        text-align: right;\n",
       "    }\n",
       "</style>\n",
       "<table border=\"1\" class=\"dataframe\">\n",
       "  <thead>\n",
       "    <tr style=\"text-align: right;\">\n",
       "      <th></th>\n",
       "      <th>Receiver_ID</th>\n",
       "      <th>Name</th>\n",
       "      <th>Type</th>\n",
       "      <th>City</th>\n",
       "      <th>Contact</th>\n",
       "    </tr>\n",
       "  </thead>\n",
       "  <tbody>\n",
       "    <tr>\n",
       "      <th>0</th>\n",
       "      <td>1</td>\n",
       "      <td>Donald Gomez</td>\n",
       "      <td>Shelter</td>\n",
       "      <td>Port Carlburgh</td>\n",
       "      <td>(955)922-5295</td>\n",
       "    </tr>\n",
       "    <tr>\n",
       "      <th>1</th>\n",
       "      <td>2</td>\n",
       "      <td>Laurie Ramos</td>\n",
       "      <td>Individual</td>\n",
       "      <td>Lewisburgh</td>\n",
       "      <td>761.042.1570</td>\n",
       "    </tr>\n",
       "    <tr>\n",
       "      <th>2</th>\n",
       "      <td>3</td>\n",
       "      <td>Ashley Mckee</td>\n",
       "      <td>NGO</td>\n",
       "      <td>South Randalltown</td>\n",
       "      <td>691-023-0094x856</td>\n",
       "    </tr>\n",
       "    <tr>\n",
       "      <th>3</th>\n",
       "      <td>4</td>\n",
       "      <td>Erika Rose</td>\n",
       "      <td>NGO</td>\n",
       "      <td>South Shaneville</td>\n",
       "      <td>8296491111</td>\n",
       "    </tr>\n",
       "    <tr>\n",
       "      <th>4</th>\n",
       "      <td>5</td>\n",
       "      <td>John Romero</td>\n",
       "      <td>Individual</td>\n",
       "      <td>Bakerport</td>\n",
       "      <td>067.491.0154</td>\n",
       "    </tr>\n",
       "  </tbody>\n",
       "</table>\n",
       "</div>"
      ],
      "text/plain": [
       "   Receiver_ID          Name        Type               City           Contact\n",
       "0            1  Donald Gomez     Shelter     Port Carlburgh     (955)922-5295\n",
       "1            2  Laurie Ramos  Individual         Lewisburgh      761.042.1570\n",
       "2            3  Ashley Mckee         NGO  South Randalltown  691-023-0094x856\n",
       "3            4    Erika Rose         NGO   South Shaneville        8296491111\n",
       "4            5   John Romero  Individual          Bakerport      067.491.0154"
      ]
     },
     "metadata": {},
     "output_type": "display_data"
    }
   ],
   "source": [
    "sample_table = \"receivers\"\n",
    "print(f\"\\nSample data from {sample_table}:\")\n",
    "display(pd.read_sql(f\"SELECT * FROM {sample_table} LIMIT 5;\", conn))\n"
   ]
  },
  {
   "cell_type": "markdown",
   "id": "9286d2aa-1736-468c-9451-45217d841421",
   "metadata": {},
   "source": [
    "### Fetching Food Listings Table"
   ]
  },
  {
   "cell_type": "code",
   "execution_count": 8,
   "id": "c69f7f0f-856d-4415-8ea2-b0ed13de5c5f",
   "metadata": {},
   "outputs": [
    {
     "name": "stdout",
     "output_type": "stream",
     "text": [
      "\n",
      "Sample data from food_listings:\n"
     ]
    },
    {
     "data": {
      "text/html": [
       "<div>\n",
       "<style scoped>\n",
       "    .dataframe tbody tr th:only-of-type {\n",
       "        vertical-align: middle;\n",
       "    }\n",
       "\n",
       "    .dataframe tbody tr th {\n",
       "        vertical-align: top;\n",
       "    }\n",
       "\n",
       "    .dataframe thead th {\n",
       "        text-align: right;\n",
       "    }\n",
       "</style>\n",
       "<table border=\"1\" class=\"dataframe\">\n",
       "  <thead>\n",
       "    <tr style=\"text-align: right;\">\n",
       "      <th></th>\n",
       "      <th>Food_ID</th>\n",
       "      <th>Food_Name</th>\n",
       "      <th>Quantity</th>\n",
       "      <th>Expiry_Date</th>\n",
       "      <th>Provider_ID</th>\n",
       "      <th>Provider_Type</th>\n",
       "      <th>Location</th>\n",
       "      <th>Food_Type</th>\n",
       "      <th>Meal_Type</th>\n",
       "    </tr>\n",
       "  </thead>\n",
       "  <tbody>\n",
       "    <tr>\n",
       "      <th>0</th>\n",
       "      <td>1</td>\n",
       "      <td>Bread</td>\n",
       "      <td>43</td>\n",
       "      <td>3/17/2025</td>\n",
       "      <td>110</td>\n",
       "      <td>Grocery Store</td>\n",
       "      <td>South Kellyville</td>\n",
       "      <td>Non-Vegetarian</td>\n",
       "      <td>Breakfast</td>\n",
       "    </tr>\n",
       "    <tr>\n",
       "      <th>1</th>\n",
       "      <td>2</td>\n",
       "      <td>Soup</td>\n",
       "      <td>22</td>\n",
       "      <td>3/24/2025</td>\n",
       "      <td>791</td>\n",
       "      <td>Grocery Store</td>\n",
       "      <td>West James</td>\n",
       "      <td>Non-Vegetarian</td>\n",
       "      <td>Dinner</td>\n",
       "    </tr>\n",
       "    <tr>\n",
       "      <th>2</th>\n",
       "      <td>3</td>\n",
       "      <td>Fruits</td>\n",
       "      <td>46</td>\n",
       "      <td>3/28/2025</td>\n",
       "      <td>478</td>\n",
       "      <td>Catering Service</td>\n",
       "      <td>Lake Regina</td>\n",
       "      <td>Vegan</td>\n",
       "      <td>Breakfast</td>\n",
       "    </tr>\n",
       "    <tr>\n",
       "      <th>3</th>\n",
       "      <td>4</td>\n",
       "      <td>Fruits</td>\n",
       "      <td>15</td>\n",
       "      <td>3/16/2025</td>\n",
       "      <td>930</td>\n",
       "      <td>Restaurant</td>\n",
       "      <td>Kellytown</td>\n",
       "      <td>Vegan</td>\n",
       "      <td>Lunch</td>\n",
       "    </tr>\n",
       "    <tr>\n",
       "      <th>4</th>\n",
       "      <td>5</td>\n",
       "      <td>Soup</td>\n",
       "      <td>14</td>\n",
       "      <td>3/19/2025</td>\n",
       "      <td>279</td>\n",
       "      <td>Restaurant</td>\n",
       "      <td>Garciaport</td>\n",
       "      <td>Vegan</td>\n",
       "      <td>Dinner</td>\n",
       "    </tr>\n",
       "  </tbody>\n",
       "</table>\n",
       "</div>"
      ],
      "text/plain": [
       "   Food_ID Food_Name  Quantity Expiry_Date  Provider_ID     Provider_Type  \\\n",
       "0        1     Bread        43   3/17/2025          110     Grocery Store   \n",
       "1        2      Soup        22   3/24/2025          791     Grocery Store   \n",
       "2        3    Fruits        46   3/28/2025          478  Catering Service   \n",
       "3        4    Fruits        15   3/16/2025          930        Restaurant   \n",
       "4        5      Soup        14   3/19/2025          279        Restaurant   \n",
       "\n",
       "           Location       Food_Type  Meal_Type  \n",
       "0  South Kellyville  Non-Vegetarian  Breakfast  \n",
       "1        West James  Non-Vegetarian     Dinner  \n",
       "2       Lake Regina           Vegan  Breakfast  \n",
       "3         Kellytown           Vegan      Lunch  \n",
       "4        Garciaport           Vegan     Dinner  "
      ]
     },
     "metadata": {},
     "output_type": "display_data"
    }
   ],
   "source": [
    "sample_table = \"food_listings\"\n",
    "print(f\"\\nSample data from {sample_table}:\")\n",
    "display(pd.read_sql(f\"SELECT * FROM {sample_table} LIMIT 5;\", conn))\n"
   ]
  },
  {
   "cell_type": "markdown",
   "id": "f1694e37-6e18-4ffe-8357-58e299d06682",
   "metadata": {},
   "source": [
    "### Fetching Claims Table"
   ]
  },
  {
   "cell_type": "code",
   "execution_count": 9,
   "id": "b8e3de54-9615-4948-ac10-e8f8b7f69550",
   "metadata": {},
   "outputs": [
    {
     "name": "stdout",
     "output_type": "stream",
     "text": [
      "\n",
      "Sample data from claims:\n"
     ]
    },
    {
     "data": {
      "text/html": [
       "<div>\n",
       "<style scoped>\n",
       "    .dataframe tbody tr th:only-of-type {\n",
       "        vertical-align: middle;\n",
       "    }\n",
       "\n",
       "    .dataframe tbody tr th {\n",
       "        vertical-align: top;\n",
       "    }\n",
       "\n",
       "    .dataframe thead th {\n",
       "        text-align: right;\n",
       "    }\n",
       "</style>\n",
       "<table border=\"1\" class=\"dataframe\">\n",
       "  <thead>\n",
       "    <tr style=\"text-align: right;\">\n",
       "      <th></th>\n",
       "      <th>Claim_ID</th>\n",
       "      <th>Food_ID</th>\n",
       "      <th>Receiver_ID</th>\n",
       "      <th>Status</th>\n",
       "      <th>Timestamp</th>\n",
       "    </tr>\n",
       "  </thead>\n",
       "  <tbody>\n",
       "    <tr>\n",
       "      <th>0</th>\n",
       "      <td>1</td>\n",
       "      <td>164</td>\n",
       "      <td>908</td>\n",
       "      <td>Pending</td>\n",
       "      <td>3/5/2025 5:26</td>\n",
       "    </tr>\n",
       "    <tr>\n",
       "      <th>1</th>\n",
       "      <td>2</td>\n",
       "      <td>353</td>\n",
       "      <td>391</td>\n",
       "      <td>Cancelled</td>\n",
       "      <td>3/11/2025 10:24</td>\n",
       "    </tr>\n",
       "    <tr>\n",
       "      <th>2</th>\n",
       "      <td>3</td>\n",
       "      <td>626</td>\n",
       "      <td>492</td>\n",
       "      <td>Completed</td>\n",
       "      <td>3/21/2025 0:59</td>\n",
       "    </tr>\n",
       "    <tr>\n",
       "      <th>3</th>\n",
       "      <td>4</td>\n",
       "      <td>61</td>\n",
       "      <td>933</td>\n",
       "      <td>Cancelled</td>\n",
       "      <td>3/4/2025 9:08</td>\n",
       "    </tr>\n",
       "    <tr>\n",
       "      <th>4</th>\n",
       "      <td>5</td>\n",
       "      <td>345</td>\n",
       "      <td>229</td>\n",
       "      <td>Pending</td>\n",
       "      <td>3/14/2025 15:17</td>\n",
       "    </tr>\n",
       "  </tbody>\n",
       "</table>\n",
       "</div>"
      ],
      "text/plain": [
       "   Claim_ID  Food_ID  Receiver_ID     Status        Timestamp\n",
       "0         1      164          908    Pending    3/5/2025 5:26\n",
       "1         2      353          391  Cancelled  3/11/2025 10:24\n",
       "2         3      626          492  Completed   3/21/2025 0:59\n",
       "3         4       61          933  Cancelled    3/4/2025 9:08\n",
       "4         5      345          229    Pending  3/14/2025 15:17"
      ]
     },
     "metadata": {},
     "output_type": "display_data"
    }
   ],
   "source": [
    "sample_table = \"claims\"\n",
    "print(f\"\\nSample data from {sample_table}:\")\n",
    "display(pd.read_sql(f\"SELECT * FROM {sample_table} LIMIT 5;\", conn))\n"
   ]
  },
  {
   "cell_type": "markdown",
   "id": "8d6026ab-8eea-4f68-ad96-71fc54d3a002",
   "metadata": {},
   "source": [
    "### Closing Connection"
   ]
  },
  {
   "cell_type": "code",
   "execution_count": 10,
   "id": "611a6637-06ef-47d0-8a75-dedd7143850b",
   "metadata": {},
   "outputs": [
    {
     "name": "stdout",
     "output_type": "stream",
     "text": [
      "\n",
      "🎯 Database created successfully!\n"
     ]
    }
   ],
   "source": [
    "# Close connection\n",
    "conn.close()\n",
    "print(\"\\n🎯 Database created successfully!\")\n"
   ]
  }
 ],
 "metadata": {
  "kernelspec": {
   "display_name": "Python (myenv)",
   "language": "python",
   "name": "myenv"
  },
  "language_info": {
   "codemirror_mode": {
    "name": "ipython",
    "version": 3
   },
   "file_extension": ".py",
   "mimetype": "text/x-python",
   "name": "python",
   "nbconvert_exporter": "python",
   "pygments_lexer": "ipython3",
   "version": "3.10.12"
  }
 },
 "nbformat": 4,
 "nbformat_minor": 5
}
